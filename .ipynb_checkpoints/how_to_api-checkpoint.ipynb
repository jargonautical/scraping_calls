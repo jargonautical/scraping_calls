{
 "cells": [
  {
   "cell_type": "markdown",
   "metadata": {},
   "source": [
    "# How to use an API"
   ]
  },
  {
   "cell_type": "markdown",
   "metadata": {},
   "source": [
    "## A short and (hopefully) friendly introduction to APIs - what they are and how they work."
   ]
  },
  {
   "cell_type": "markdown",
   "metadata": {},
   "source": [
    "Python is very good at handling API calls and managing the files it gets back in response; this Jupyter notebook is built up from all the sample code snippets and API calls I use in face-to-face training sessions.  \n",
    "The aim of the session is simply to demystify APIs, for people who haven't worked with them before and need to get an idea of what they are, what they do, and how they work."
   ]
  },
  {
   "cell_type": "markdown",
   "metadata": {},
   "source": [
    "<dl>\n",
    "  <dt>Definition list</dt>\n",
    "  <dd>Is something people use sometimes.</dd>\n",
    "\n",
    "  <dt>Markdown in HTML</dt>\n",
    "  <dd>Does *not* work **very** well. Use HTML <em>tags</em>.</dd>\n",
    "</dl>"
   ]
  },
  {
   "cell_type": "markdown",
   "metadata": {},
   "source": [
    "### What is an API, anyway?\n",
    "<img style=\"float:right\" src=\"images/question_bod.png\" />  \n",
    "#### The technical definitions all look something like this:\n",
    "“In computer programming, an application programming interface (API) is a set of subroutine definitions, protocols, and tools for building software and applications. A good API makes it easier to develop a program by providing all the building blocks, which are then put together by the programmer.”  \n",
    "https://en.wikipedia.org/wiki/Application_programming_interface  \n",
    "\n",
    "#### Luckily there are friendlier versions ...\n",
    "“... an API provides you with data its programmers have made available to outside users …”  \n",
    "“... they expose endpoints …” meaning “they publish a portion of the language they’ve used to build their program.”  \n",
    "“Endpoints return text that’s meant for computers to read …”  \n",
    "\n",
    "These snippets are taken from this blog post: http://technologyadvice.com/blog/information-technology/how-to-use-an-api/ which is an excellent introduction to the topic if you have the time to check it out.\n",
    "\n",
    "#### I like to start with a Plain English version that goes something like this:\n",
    "<img style=\"float:left\" src=\"images/shopping_list_bod.png\" />\n",
    "\"The developers wrote some code into their server that lets you access some of the data if you ask the question in the right way.\"  \n",
    "\n",
    "But basically when you make an API call, what you're doing is writing a very short, very specific 'shopping list' asking the computer to go and fetch you something from a datastore on someone else's computer.\n"
   ]
  },
  {
   "cell_type": "markdown",
   "metadata": {},
   "source": [
    "## Let's work with the shopping analogy.  \n",
    "<img style=\"float:left\" src=\"images/list_bod.png\" />  \n",
    "Imagine you are in the middle of making dinner and realise you're out of milk. You need to send someone to the nearby corner shop while you carry on cooking. The only problem is, that person is very literal minded and needs precise instructions ...  "
   ]
  },
  {
   "attachments": {},
   "cell_type": "markdown",
   "metadata": {},
   "source": [
    "### Where do you need them to go?\n",
    "##### https:// my-local-shop.com /\n",
    "That's your endpoint.  \n",
    "There may be version numbers, but basically that's about it."
   ]
  },
  {
   "attachments": {},
   "cell_type": "markdown",
   "metadata": {},
   "source": [
    "### What do you need them to get for you?\n",
    "<img style=\"float:left\" src=\"images/confused_bod.png\" />  \n",
    "# https[]()://my-local-shop.com/**milk**/\n",
    "When they get there, what are they looking for?    \n",
    "It might be a specific datastore or a named dataset. Good API documentation will tell you what your options are.  \n",
    "Bad documentation - and it does exist, sadly - can take several forms, the most common being:\n",
    "- A three-page essay on the history of the language used to code it.\n",
    "- A description of several highly technical edge cases and the clever workarounds you'll need.  \n",
    "\n",
    "If you're ever writing API documentation, don't be that guy. It's incredibly unhelpful. Good documentation gets straight to the point with 'write something like ``this`` and you should get ``this result.``'. Put the essays and the edge cases at the end."
   ]
  },
  {
   "attachments": {},
   "cell_type": "markdown",
   "metadata": {},
   "source": [
    "### What if there are more options than just 'milk'?  \n",
    "<img style=\"float:right\" src=\"images/too_much_choice_bod.png\" />  \n",
    "Then we need to be more specific. The API's documentation *should* help you navigate the available options, either with a range of examples as code snippets or a dictionary of values that you can call on.  For our milk analogy, the options might look something like:  \n",
    "- size\n",
    "    - 500ml\n",
    "    - 1l\n",
    "    - 2l\n",
    "- type\n",
    "    - skimmed\n",
    "    - semi-skimmed\n",
    "    - whole\n",
    "\n",
    "So you can build a more specific query (shopping list) by adding the particular options and values you want on the end.  \n",
    "\n",
    "If you want a litre of semi-skimmed, you add ``?`` to show you're adding query terms, then ``size=1`` and ``type=semiskimmed``. If you're adding more than one term to your search, you usually join them with ampersand ``&`` though this can vary according to languages and developers' preference. This is where documented code snippets come in handy! Look at what the documentation suggests as a structure, and experiment until you get something that works. \n",
    "\n",
    "# https[]()://my-local-shop.com/milk?size=1&type=semiskimmed\n"
   ]
  },
  {
   "cell_type": "code",
   "execution_count": 8,
   "metadata": {
    "tags": [
     "hide_input",
     "hide_output"
    ]
   },
   "outputs": [
    {
     "data": {
      "text/html": [
       "<style>\n",
       "table {float:left}\n",
       "</style>\n"
      ],
      "text/plain": [
       "<IPython.core.display.HTML object>"
      ]
     },
     "metadata": {},
     "output_type": "display_data"
    }
   ],
   "source": [
    "%%html\n",
    "<style>\n",
    "table {float:left}\n",
    "</style>"
   ]
  },
  {
   "attachments": {},
   "cell_type": "markdown",
   "metadata": {},
   "source": [
    "## Now let's talk about 'responses'  \n",
    "<img style=\"float:left\" src=\"images/no_luck_bod.png\" />  \n",
    "Sometimes your API call will fail, and you might not know why. You did everything right, you followed the documentation or you used an existing example, and yet ... there is no milk (or rather, no data!). There's just an error message. What do you do then?  \n",
    "\n",
    "# Error 404: “milk” not found\n",
    "\n",
    "Okay, to keep pushing the shopping analogy - maybe the shop doesn't have a 'Milk' shelf. Perhaps it has a 'Dairy' aisle. Maybe it's not a corner shop at all, but rather a petrol station with a fridge marked 'Essentials' where the milk is kept along with the sausage rolls and the energy drinks. Maybe you actually need almond milk, or soya, and those are kept in a completely different section called 'Alternatives to dairy'. Until you get there it's difficult to know.  \n",
    "\n",
    "The documentation *should* tell you what you're looking for, but also the response you get from the API server will have some information for you. We'll have a look a bit further down at how you find out what the response was, if your browser isn't showing it to you, but for now here are the possible problems. \n",
    "\n"
   ]
  },
  {
   "cell_type": "markdown",
   "metadata": {},
   "source": [
    "\n",
    "| Response range| What it means            |\n",
    "| :------------ |:-----------------------  |\n",
    "| 100           | Here is some information |\n",
    "| 200           | Success!                 |\n",
    "| 300           | We need to redirect you  |\n",
    "| 400           | You did something wrong  |\n",
    "| 500           | We did something wrong   |  "
   ]
  },
  {
   "cell_type": "markdown",
   "metadata": {},
   "source": [
    "So for example error ``404`` (in the 400 range) means 'we can't find what you're looking for'. 401, 402 and 403 are variations on 'you're not allowed to look at what you're asking for'. Responses in the 500 range cover things like the API server being down, the network being down and other problems that are nothing to do with whatever you did."
   ]
  },
  {
   "cell_type": "markdown",
   "metadata": {},
   "source": [
    "# https[]()://my-local-shop.com/dairy?\n",
    "# product=milk\n",
    "# &size=1\n",
    "# &type=semiskimmed\n"
   ]
  },
  {
   "cell_type": "markdown",
   "metadata": {},
   "source": [
    "# That's enough theory - time to try some things.\n",
    "The next few sections of this notebook are going to be code - Python, to be exact, since it's relatively beginner-friendly to do the things we want to do here. And by that I mean:  \n",
    "- Construct a query\n",
    "- Send the query to a server\n",
    "- Check the response adn maybe a few other details\n",
    "- Look at the data  \n",
    "\n",
    "If you're already familiar with Python, that's great. If you're not ... that's also great, all the code is here for you and all you need to do is run it."
   ]
  },
  {
   "cell_type": "markdown",
   "metadata": {},
   "source": [
    "## If you do any online shopping, this should all start to look familiar.\n",
    "<img style=\"float:left\" src=\"images/shopping_bod.png\" />  \n"
   ]
  },
  {
   "cell_type": "markdown",
   "metadata": {},
   "source": [
    "\n",
    "An API call is made up of sections, just like your shopping instructions.\n",
    "Here's an example straight from online shopping.  \n",
    "https://groceries.asda.com/dept/chilled-food/cheese/111678\n",
    "\n",
    "\n",
    "#### Go to the supermarket \n",
    "# https[]()://groceries.asda.com/\n",
    "#### Find the right section\n",
    "# ...dept/chilled-food/\n",
    "#### Find me some cheese  \n",
    "# ...cheese/111678\n"
   ]
  },
  {
   "cell_type": "markdown",
   "metadata": {},
   "source": []
  },
  {
   "cell_type": "markdown",
   "metadata": {},
   "source": [
    "# Fine, so how do we call an API?\n",
    "Most programming languages have built-in functions for calling on data and resources on remote servers; here's how you do it in Python.\n",
    "### Getting started\n",
    "First we need to import a few Python libraries so you have the right commands to call on.\n",
    "- list the libraries and what they do here -"
   ]
  },
  {
   "cell_type": "code",
   "execution_count": 13,
   "metadata": {},
   "outputs": [],
   "source": [
    "import requests\n",
    "import pandas\n",
    "# check out what else needs to be in there"
   ]
  },
  {
   "attachments": {},
   "cell_type": "markdown",
   "metadata": {},
   "source": [
    "https://www.googleapis.com/books/v1/volumes?q=title:potter\n",
    "\n",
    "http://www.argos.co.uk/search/star-wars-lego-at-argos/?tag=ar:shop:starwars:lego\n",
    "https://thepihut.com/pages/search-results?q=robot\n",
    "https://www.tesco.com/groceries/product/search/default.aspx?searchBox=stilton&newSort=true&search=Search\n",
    "\n",
    "\n",
    "\n"
   ]
  },
  {
   "cell_type": "markdown",
   "metadata": {},
   "source": [
    "This is based on the Python API tutorial by Vik Parachuri at https://dataquest.io/blog/python-api-tutorial and uses the Open Notify API (information about the International Space Station)."
   ]
  },
  {
   "cell_type": "code",
   "execution_count": 15,
   "metadata": {},
   "outputs": [
    {
     "name": "stdout",
     "output_type": "stream",
     "text": [
      "200\n"
     ]
    }
   ],
   "source": [
    "response = requests.get(\"http://api.open-notify.org/iss-now.json\")\n",
    "print (response.status_code)"
   ]
  },
  {
   "cell_type": "code",
   "execution_count": 16,
   "metadata": {},
   "outputs": [
    {
     "name": "stdout",
     "output_type": "stream",
     "text": [
      "200\n"
     ]
    }
   ],
   "source": [
    "response = requests.get(\"http://api.open-notify.org/iss-now\")\n",
    "print (response.status_code)"
   ]
  },
  {
   "cell_type": "code",
   "execution_count": 17,
   "metadata": {},
   "outputs": [
    {
     "name": "stdout",
     "output_type": "stream",
     "text": [
      "400\n"
     ]
    }
   ],
   "source": [
    "response = requests.get(\"http://api.open-notify.org/iss-pass.json\")\n",
    "print (response.status_code)"
   ]
  },
  {
   "cell_type": "code",
   "execution_count": 18,
   "metadata": {},
   "outputs": [
    {
     "name": "stdout",
     "output_type": "stream",
     "text": [
      "200\n"
     ]
    }
   ],
   "source": [
    "response = requests.get(\"http://api.open-notify.org/iss-pass.json?lat=40.71&lon=-74\")\n",
    "print (response.status_code)"
   ]
  },
  {
   "cell_type": "code",
   "execution_count": 19,
   "metadata": {},
   "outputs": [
    {
     "name": "stdout",
     "output_type": "stream",
     "text": [
      "b'{\\n  \"message\": \"success\", \\n  \"request\": {\\n    \"altitude\": 100, \\n    \"datetime\": 1585146146, \\n    \"latitude\": 40.71, \\n    \"longitude\": -74.0, \\n    \"passes\": 5\\n  }, \\n  \"response\": [\\n    {\\n      \"duration\": 590, \\n      \"risetime\": 1585170041\\n    }, \\n    {\\n      \"duration\": 647, \\n      \"risetime\": 1585175807\\n    }, \\n    {\\n      \"duration\": 580, \\n      \"risetime\": 1585181686\\n    }, \\n    {\\n      \"duration\": 568, \\n      \"risetime\": 1585187565\\n    }, \\n    {\\n      \"duration\": 637, \\n      \"risetime\": 1585193384\\n    }\\n  ]\\n}\\n'\n"
     ]
    }
   ],
   "source": [
    "data = response.content\n",
    "print (data)"
   ]
  },
  {
   "cell_type": "code",
   "execution_count": 21,
   "metadata": {},
   "outputs": [
    {
     "name": "stdout",
     "output_type": "stream",
     "text": [
      "b'{\"people\": [{\"craft\": \"ISS\", \"name\": \"Andrew Morgan\"}, {\"craft\": \"ISS\", \"name\": \"Oleg Skripochka\"}, {\"craft\": \"ISS\", \"name\": \"Jessica Meir\"}], \"message\": \"success\", \"number\": 3}'\n"
     ]
    }
   ],
   "source": [
    "response = requests.get(\"http://api.open-notify.org/astros.json\")\n",
    "data = response.content\n",
    "print (data)"
   ]
  },
  {
   "attachments": {},
   "cell_type": "markdown",
   "metadata": {},
   "source": [
    "http://www.bbc.co.uk/ \n",
    "http://api.open-notify.org/\n",
    "http://pokeapi.co/api/v2/\n",
    "https://api.openaq.org/v1/\n",
    "\n",
    "http://www.bbc.co.uk/radio1/playlist.json\n",
    "http://api.open-notify.org/iss-now.json\n",
    "http://pokeapi.co/api/v2/evolution-chain/7/\n",
    "https://api.openaq.org/v1/cities?country=GB\n",
    "\n",
    "Wikipedia\n",
    "https://en.wikipedia.org/w/api.php?action=query&titles=parliament&prop=revisions \n",
    "\n",
    "Care Quality Commission\n",
    "https://api.cqc.org.uk/public/v1/providers/ \n",
    "https://api.cqc.org.uk/public/v1/locations/ \n",
    "\n",
    "FCO register of countries\n",
    "https://country.register.gov.uk/register\n",
    "https://country.register.gov.uk/records.csv\n",
    "https://country.register.gov.uk/entries\n",
    "https://country.register.gov.uk/record/VA\n",
    "https://country.register.gov.uk/record/GB\n",
    "\n"
   ]
  },
  {
   "cell_type": "markdown",
   "metadata": {},
   "source": [
    "authentication\n",
    "\n",
    "http://www.bbc.co.uk/radio1/playlist.json\n",
    "https://api.openobjects.com/v2/devon_directory/records?key=[very-secret-key]&startIndex=1&count=100\n"
   ]
  }
 ],
 "metadata": {
  "celltoolbar": "Tags",
  "kernelspec": {
   "display_name": "Python 3",
   "language": "python",
   "name": "python3"
  },
  "language_info": {
   "codemirror_mode": {
    "name": "ipython",
    "version": 3
   },
   "file_extension": ".py",
   "mimetype": "text/x-python",
   "name": "python",
   "nbconvert_exporter": "python",
   "pygments_lexer": "ipython3",
   "version": "3.8.2"
  }
 },
 "nbformat": 4,
 "nbformat_minor": 2
}

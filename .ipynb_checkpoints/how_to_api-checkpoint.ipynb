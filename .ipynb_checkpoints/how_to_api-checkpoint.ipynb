{
 "cells": [
  {
   "cell_type": "markdown",
   "metadata": {},
   "source": [
    "# How to use an API\n",
    "## A short and (hopefully) friendly introduction to APIs - what they are and how they work.\n",
    "Python is very good at handling API calls and managing the files it gets back in response; this Jupyter notebook is built up from all the sample code snippets and API calls I use in face-to-face training sessions. The aim of this guide is simply to demystify APIs, for people who haven't worked with them before and need to get an idea of what they are, what they do, and how they work."
   ]
  },
  {
   "cell_type": "markdown",
   "metadata": {},
   "source": [
    "# What is an API, anyway?\n",
    "<img style=\"float:right\" src=\"images/question_bod.png\" />  \n",
    "## The technical definitions all look something like this:\n",
    "“In computer programming, an application programming interface (API) is a set of subroutine definitions, protocols, and tools for building software and applications. A good API makes it easier to develop a program by providing all the building blocks, which are then put together by the programmer.”  \n",
    "https://en.wikipedia.org/wiki/Application_programming_interface  \n",
    "\n",
    "## Luckily there are friendlier versions ...\n",
    "“An API provides you with data its programmers have made available to outside users.”  \n",
    "“They publish a portion of the language they’ve used to build their program.”  \n",
    "“Endpoints return text that’s meant for computers to read.”  \n",
    "http://technologyadvice.com/blog/information-technology/how-to-use-an-api/\n",
    "\n",
    "##  I like to start with a Plain English version that goes something like this:  \n",
    "\"The developers wrote some code into their server that lets you access some of the data if you ask the question in the right way.\""
   ]
  },
  {
   "cell_type": "markdown",
   "metadata": {},
   "source": [
    "# An analogy: the shopping list.\n",
    "<img style=\"float:left\" src=\"images/list_bod.png\" />  \n",
    "Basically when you make an API call, what you're really doing is writing a very short, very specific 'shopping list' asking your computer to go and fetch you something from somwhere else - a datastore on someone else's computer.  \n",
    "So, working with the shopping analogy, let's imagine you are in the middle of making dinner and realise you're out of milk. You need to send someone to the nearby corner shop while you carry on cooking.  \n",
    "\n",
    "The only problem is, that person is very literal minded and needs precise instructions ... how are you going to make sure they come back with the right thing?"
   ]
  },
  {
   "cell_type": "markdown",
   "metadata": {},
   "source": [
    "# Step by step instructions\n",
    "## Where do you need them to go?\n",
    "The first thing you need to specify is the destination - the **endpoint**. \"Go to the corner shop.\".  \n",
    "An endpoint is usually fairly simple - it will look like a website URL, with maybe an additional bit tacked on the end like '/api' or '/datastore' or a version number like '/2.0' or '/v2'.  \n",
    "\n",
    "<span style=\"color:blue; font-family:Lato; font-size:2em;\">https[]()://my-corner-shop.com/</span>  \n",
    "\n",
    "\n",
    "## What do you need them to get for you?  \n",
    "The next thing you need is a description or a name for the thing you want them to bring back. In this case, we're looking for milk which we're fairly sure the shop will have in stock. \"Go to the corner shop, and get me some milk.\".  Now our API call looks a bit like this:\n",
    "\n",
    "<span style=\"color:blue; font-family:Lato; font-size:2em;\">https[]()://my-corner-shop.com/milk/</span>  \n",
    "\n",
    "## What if there are more options than just 'milk'?  \n",
    "<img style=\"float:right\" src=\"images/too_much_choice_bod.png\" />  \n",
    "Then we need to be more specific. The API's documentation *should* help you navigate the available options, either with a range of examples as code snippets or a dictionary of values that you can call on.  For our milk analogy, the options might look something like:  \n",
    "- size\n",
    "    - 500ml\n",
    "    - 1l\n",
    "    - 2l\n",
    "- type\n",
    "    - skimmed\n",
    "    - semi-skimmed\n",
    "    - whole\n",
    "\n",
    "So you can build a more specific query (shopping list) by adding the particular options and values you want on the end.  Here's the syntax for the usual method we use for telling the computer you have some extra filters or conditions for your request.\n",
    "\n",
    "<span style=\"color:blue; font-family:Lato; font-size:1em;\">?</span> means \"but wait, there's more ...\"\n",
    "\n",
    "<span style=\"color:blue; font-family:Lato; font-size:1em;\">size=1</span> adds a filter; \"1 litre, please\". \n",
    "\n",
    "What if you have more than one filter to apply? That's fine. You join the filter terms with an ampersand <span style=\"color:blue; font-family:Lato; font-size:1em;\">&</span> so they look like this: <span style=\"color:blue; font-family:Lato; font-size:1em;\">size=1&type=semiskimmed</span>\n",
    "\n",
    "**NB** Syntax *may* vary between different APIs according to the developer's preference and the language or platform used to build the API. This is where good documentation is critical; the best will provide useful code snippets to help you get started, with examples of different types of filters and combinations. Look at what the documentation suggests as a structure, and experiment until you get something that works.\n",
    "\n",
    "-----\n",
    "\n",
    "Now we've finished building our corner shop API call for a litre of semi-skimmed milk, it looks like this:\n",
    "\n",
    "<span style=\"color:blue; font-family:Lato; font-size:2em;\">https[]()://my-corner-shop.com/milk?size=1&type=semiskimmed</span>"
   ]
  },
  {
   "cell_type": "code",
   "execution_count": 1,
   "metadata": {
    "tags": [
     "hide_input",
     "hide_output"
    ]
   },
   "outputs": [
    {
     "data": {
      "text/html": [
       "<style>\n",
       "table {float:left}\n",
       "</style>\n"
      ],
      "text/plain": [
       "<IPython.core.display.HTML object>"
      ]
     },
     "metadata": {},
     "output_type": "display_data"
    }
   ],
   "source": [
    "%%html\n",
    "<style>\n",
    "table {float:left}\n",
    "</style>"
   ]
  },
  {
   "cell_type": "markdown",
   "metadata": {},
   "source": [
    "## Now let's talk about 'responses'  \n",
    "<img style=\"float:left\" src=\"images/confused_bod.png\" />  \n",
    "Sometimes your API call will fail, and you might not know why. You did everything right, you followed the documentation or you used an existing example, and yet ... there is no milk (or rather, no data!). There's just an error message. What do you do then?  \n",
    "\n",
    "<span style=\"font-family:Lato; color:blue; font-size:2em;\">Error 404: “milk” not found</span>  \n",
    "\n",
    "Okay, to keep pushing the shopping analogy - maybe the shop doesn't have a 'Milk' shelf. Perhaps it has a 'Dairy' aisle. Maybe it's not a corner shop at all, but rather a petrol station with a fridge marked 'Essentials' where the milk is kept along with the sausage rolls and the energy drinks. Maybe you actually need almond milk, or soya, and those are kept in a completely different section called 'Alternatives to dairy'. Until you get there it's difficult to know. That's what the API documentation is for - to give you a guide to the layout of the store, so to speak, and what you might expect to find on which shelves."
   ]
  },
  {
   "cell_type": "markdown",
   "metadata": {},
   "source": [
    "<img style=\"float:right\" src=\"images/got_milk_bod.png\" />  \n",
    "\n",
    "<span style=\"color:blue; font-family:Lato; font-size:2em;\">https[]()://my-corner-shop.com/dairy?product=milk&size=1&type=semiskimmed</span>  \n",
    "\n"
   ]
  },
  {
   "cell_type": "markdown",
   "metadata": {},
   "source": [
    "The documentation *should* tell you what you're looking for, but also the response you get from the API server will have some information for you. We'll have a look a bit further down at how you find out what the response was, if your browser isn't showing it to you, but for now here are the possible problems.  \n",
    "\n",
    "<span style=\"font-family:Lato; font-size:1.5em;\">100: Here is some information</span>  \n",
    "<span style=\"font-family:Lato; font-size:1.5em;\">200: Success!</span>  \n",
    "<span style=\"font-family:Lato; font-size:1.5em;\">300: We need to redirect you</span>  \n",
    "<span style=\"font-family:Lato; font-size:1.5em;\">400: You did something wrong</span>  \n",
    "<span style=\"font-family:Lato; font-size:1.5em;\">500: We did something wrong</span>"
   ]
  },
  {
   "cell_type": "markdown",
   "metadata": {},
   "source": [
    "So for example,\n",
    "* error 404 (in the 400 range) means 'we can't find what you're asking for'. \n",
    "* 401, 402 and 403 are variations on 'you're not allowed to look at what you're asking for'. \n",
    "* Responses in the 500 range cover things like the API server being down, the network being down and other problems that are nothing to do with whatever you did."
   ]
  },
  {
   "cell_type": "markdown",
   "metadata": {},
   "source": [
    "# If you ever do any online shopping, this next bit should look familiar.\n",
    "<img style=\"float:left\" src=\"images/shopping_bod.png\" />  "
   ]
  },
  {
   "cell_type": "markdown",
   "metadata": {},
   "source": [
    "## Example 1\n",
    "https://www.google.com/search?q=lego+millennium+falcon\n",
    "\n",
    "Where am I going? Google.  \n",
    "What am I looking for? Lego sets. Specifically, the Millenium Falcon - because why not.\n",
    "\n",
    "## Example 2\n",
    "\n",
    "https://www.game.co.uk/en/games/halo/?attributeName1=Platform&sortColumn=popular&sortTypeStr=DESC&inStockOnly=true&listerOnly=true&attributeValue1=4294954117&sortBy=\n",
    "\n",
    "Where am I going? the Game store.  \n",
    "What am I looking for? Halo for Xbox One, if they have it in stock.  \n",
    "*Note the long list of query conditions joined with '&' in this call; most of those are added by the store to make the results page sort and filter a certain way.*"
   ]
  },
  {
   "cell_type": "markdown",
   "metadata": {},
   "source": [
    "# That's enough theory\n",
    "## Time to look at some real examples.\n",
    "The next few sections of this notebook are going to be code - Python, to be exact, since it's relatively beginner-friendly to do the things we want to do here. And by 'things' I mean:  \n",
    "- Construct a query\n",
    "- Send the query to a server\n",
    "- Check the response and maybe a few other details\n",
    "- Look at the data  \n",
    "\n",
    "If you're already familiar with Python, that's great. If you're not ... that's fine. You won;t need to write any code, it's all here for you and all you need to do is run it."
   ]
  },
  {
   "cell_type": "markdown",
   "metadata": {},
   "source": [
    "### Getting started\n",
    "Most programming languages have built-in functions for calling on data and resources on remote servers; here's how you do it in Python.\n",
    "First we need to import a few Python libraries so you have the right commands to call on.\n",
    "- list the libraries and what they do here -"
   ]
  },
  {
   "cell_type": "code",
   "execution_count": 5,
   "metadata": {},
   "outputs": [],
   "source": [
    "import requests\n",
    "import pandas\n",
    "# check out what else needs to be in there\n",
    "# pretty print\n"
   ]
  },
  {
   "cell_type": "markdown",
   "metadata": {},
   "source": [
    "https://www.googleapis.com/books/v1/volumes?q=title:potter\n",
    "\n",
    "http://www.argos.co.uk/search/star-wars-lego-at-argos/?tag=ar:shop:starwars:lego\n",
    "https://thepihut.com/pages/search-results?q=robot\n",
    "https://www.tesco.com/groceries/product/search/default.aspx?searchBox=stilton&newSort=true&search=Search\n",
    "\n",
    "\n",
    "\n"
   ]
  },
  {
   "cell_type": "markdown",
   "metadata": {},
   "source": [
    "This is based on the Python API tutorial by Vik Parachuri at https://dataquest.io/blog/python-api-tutorial and uses the Open Notify API (information about the International Space Station)."
   ]
  },
  {
   "cell_type": "code",
   "execution_count": 14,
   "metadata": {},
   "outputs": [
    {
     "name": "stdout",
     "output_type": "stream",
     "text": [
      "200\n"
     ]
    }
   ],
   "source": [
    "response = requests.get(\"http://api.open-notify.org/iss-now.json\")\n",
    "print (response.status_code)"
   ]
  },
  {
   "cell_type": "code",
   "execution_count": 15,
   "metadata": {},
   "outputs": [
    {
     "name": "stdout",
     "output_type": "stream",
     "text": [
      "200\n"
     ]
    }
   ],
   "source": [
    "response = requests.get(\"http://api.open-notify.org/iss-now\")\n",
    "print (response.status_code)"
   ]
  },
  {
   "cell_type": "code",
   "execution_count": 16,
   "metadata": {},
   "outputs": [
    {
     "name": "stdout",
     "output_type": "stream",
     "text": [
      "400\n"
     ]
    }
   ],
   "source": [
    "response = requests.get(\"http://api.open-notify.org/iss-pass.json\")\n",
    "print (response.status_code)"
   ]
  },
  {
   "cell_type": "markdown",
   "metadata": {},
   "source": [
    "### Why the error?\n",
    "For this one you need **parameters**; some additional values that make the query make sense.  \n",
    "We're asking when the ISS will pass over a particular location, so we have to give it the location we're asking about.  \n",
    "\n",
    "You can google for the latitude and longitude of your chosen town, and you'll get back something like this:  \n",
    "\n",
    "<span style=\"font-family:Lato; font-size:2em;\"> Plymouth 50.3755° N, 4.1427° W</span>  \n",
    "\n",
    "Trim those figures down to two decimal places and plug them into the end of the query to see the results.\n",
    "\n"
   ]
  },
  {
   "cell_type": "code",
   "execution_count": 31,
   "metadata": {},
   "outputs": [
    {
     "name": "stdout",
     "output_type": "stream",
     "text": [
      "200\n"
     ]
    }
   ],
   "source": [
    "response = requests.get(\"http://api.open-notify.org/iss-pass.json?lat=50.37&lon=4.14\")\n",
    "print (response.status_code)"
   ]
  },
  {
   "cell_type": "code",
   "execution_count": 32,
   "metadata": {},
   "outputs": [
    {
     "name": "stdout",
     "output_type": "stream",
     "text": [
      "b'{\\n  \"message\": \"success\", \\n  \"request\": {\\n    \"altitude\": 100, \\n    \"datetime\": 1585582842, \\n    \"latitude\": 50.37, \\n    \"longitude\": 4.14, \\n    \"passes\": 5\\n  }, \\n  \"response\": [\\n    {\\n      \"duration\": 654, \\n      \"risetime\": 1585594447\\n    }, \\n    {\\n      \"duration\": 639, \\n      \"risetime\": 1585600257\\n    }, \\n    {\\n      \"duration\": 496, \\n      \"risetime\": 1585606094\\n    }, \\n    {\\n      \"duration\": 357, \\n      \"risetime\": 1585660792\\n    }\\n  ]\\n}\\n'\n"
     ]
    }
   ],
   "source": [
    "data = response.content\n",
    "print (data)"
   ]
  },
  {
   "cell_type": "code",
   "execution_count": 33,
   "metadata": {},
   "outputs": [
    {
     "name": "stdout",
     "output_type": "stream",
     "text": [
      "{'message': 'success', 'request': {'altitude': 100, 'datetime': 1585582842, 'latitude': 50.37, 'longitude': 4.14, 'passes': 5}, 'response': [{'duration': 654, 'risetime': 1585594447}, {'duration': 639, 'risetime': 1585600257}, {'duration': 496, 'risetime': 1585606094}, {'duration': 357, 'risetime': 1585660792}]}\n"
     ]
    }
   ],
   "source": [
    "data = response.json()\n",
    "print (data)"
   ]
  },
  {
   "cell_type": "code",
   "execution_count": 34,
   "metadata": {},
   "outputs": [
    {
     "name": "stdout",
     "output_type": "stream",
     "text": [
      "{   'message': 'success',\n",
      "    'request': {   'altitude': 100,\n",
      "                   'datetime': 1585582842,\n",
      "                   'latitude': 50.37,\n",
      "                   'longitude': 4.14,\n",
      "                   'passes': 5},\n",
      "    'response': [   {'duration': 654, 'risetime': 1585594447},\n",
      "                    {'duration': 639, 'risetime': 1585600257},\n",
      "                    {'duration': 496, 'risetime': 1585606094},\n",
      "                    {'duration': 357, 'risetime': 1585660792}]}\n"
     ]
    }
   ],
   "source": [
    "import pprint\n",
    "pp = pprint.PrettyPrinter(indent=4)\n",
    "pp.pprint(data)"
   ]
  },
  {
   "cell_type": "code",
   "execution_count": 35,
   "metadata": {},
   "outputs": [
    {
     "name": "stdout",
     "output_type": "stream",
     "text": [
      "b'{\"people\": [{\"craft\": \"ISS\", \"name\": \"Andrew Morgan\"}, {\"craft\": \"ISS\", \"name\": \"Oleg Skripochka\"}, {\"craft\": \"ISS\", \"name\": \"Jessica Meir\"}], \"message\": \"success\", \"number\": 3}'\n"
     ]
    }
   ],
   "source": [
    "response = requests.get(\"http://api.open-notify.org/astros.json\")\n",
    "data = response.content\n",
    "print (data)"
   ]
  },
  {
   "cell_type": "code",
   "execution_count": 36,
   "metadata": {},
   "outputs": [
    {
     "name": "stdout",
     "output_type": "stream",
     "text": [
      "{   'message': 'success',\n",
      "    'number': 3,\n",
      "    'people': [   {'craft': 'ISS', 'name': 'Andrew Morgan'},\n",
      "                  {'craft': 'ISS', 'name': 'Oleg Skripochka'},\n",
      "                  {'craft': 'ISS', 'name': 'Jessica Meir'}]}\n"
     ]
    }
   ],
   "source": [
    "response = requests.get(\"http://api.open-notify.org/astros.json\")\n",
    "data = response.json()\n",
    "pp.pprint (data)"
   ]
  },
  {
   "cell_type": "markdown",
   "metadata": {},
   "source": [
    "http://www.bbc.co.uk/ \n",
    "http://api.open-notify.org/\n",
    "http://pokeapi.co/api/v2/\n",
    "https://api.openaq.org/v1/\n",
    "\n",
    "http://www.bbc.co.uk/radio1/playlist.json\n",
    "http://api.open-notify.org/iss-now.json\n",
    "http://pokeapi.co/api/v2/evolution-chain/7/\n",
    "https://api.openaq.org/v1/cities?country=GB\n",
    "\n",
    "Wikipedia\n",
    "https://en.wikipedia.org/w/api.php?action=query&titles=parliament&prop=revisions \n",
    "\n",
    "Care Quality Commission\n",
    "https://api.cqc.org.uk/public/v1/providers/ \n",
    "https://api.cqc.org.uk/public/v1/locations/ \n",
    "\n",
    "FCO register of countries\n",
    "https://country.register.gov.uk/register\n",
    "https://country.register.gov.uk/records.csv\n",
    "https://country.register.gov.uk/entries\n",
    "https://country.register.gov.uk/record/VA\n",
    "https://country.register.gov.uk/record/GB\n",
    "\n"
   ]
  },
  {
   "cell_type": "markdown",
   "metadata": {},
   "source": [
    "authentication\n",
    "\n",
    "http://www.bbc.co.uk/radio1/playlist.json\n",
    "https://api.openobjects.com/v2/devon_directory/records?key=[very-secret-key]&startIndex=1&count=100\n"
   ]
  }
 ],
 "metadata": {
  "kernelspec": {
   "display_name": "Python 3",
   "language": "python",
   "name": "python3"
  },
  "language_info": {
   "codemirror_mode": {
    "name": "ipython",
    "version": 3
   },
   "file_extension": ".py",
   "mimetype": "text/x-python",
   "name": "python",
   "nbconvert_exporter": "python",
   "pygments_lexer": "ipython3",
   "version": "3.8.2"
  }
 },
 "nbformat": 4,
 "nbformat_minor": 2
}

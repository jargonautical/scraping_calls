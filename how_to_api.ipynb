{
 "cells": [
  {
   "cell_type": "markdown",
   "metadata": {},
   "source": [
    "# How to use an API"
   ]
  },
  {
   "cell_type": "markdown",
   "metadata": {},
   "source": [
    "## A short and (hopefully) friendly introduction to APIs - what they are and how they work."
   ]
  },
  {
   "cell_type": "markdown",
   "metadata": {},
   "source": [
    "Python is very good at handling API calls and managing the files it gets back in response; this Jupyter notebook is built up from all the sample code snippets and API calls I use in face-to-face training sessions. "
   ]
  },
  {
   "cell_type": "markdown",
   "metadata": {},
   "source": [
    "### What is an API, anyway?\n",
    "#### Definitions\n",
    "The technical, the friendly, the analogy\n",
    "### So, we're shopping.\n",
    "Imagine you are sending someone to the nearby corner shop to buy milk. The only problem is, that person is very literal minded and needs precise instructions ...\n",
    "#### Go to the shop and get me some milk\n",
    "- image\n",
    "- text\n",
    "#### Go to the shop and get me half a pint of semi-skimmed milk\n",
    "- image\n",
    "- text\n",
    "#### Go to the shop and find the dairy aisle, then get me half a pint of semi-skimmed milk\n",
    "- image\n",
    "- text"
   ]
  },
  {
   "cell_type": "markdown",
   "metadata": {},
   "source": [
    "## An API call is made up of sections, just like your shopping instructions.\n",
    "### Where am I going?\n",
    "To the shop\n",
    "### ... and then what?\n",
    "Find the right aisle\n",
    "### ... and then?\n",
    "Find the right product"
   ]
  },
  {
   "cell_type": "markdown",
   "metadata": {},
   "source": [
    "## A few examples\n",
    "You'll see this sort of expression if you use online shopping or search engines\n",
    "- Tesco - find me cheese\n",
    "- Amazon - find me lego\n",
    "- Google - find me xx resource\n",
    "### Fine, so how do we call an API?\n",
    "Most programming languages have built-in functions for calling on data and resources on remote servers; here's how you do it in Python."
   ]
  },
  {
   "cell_type": "markdown",
   "metadata": {},
   "source": [
    "### Getting started\n",
    "First we need to import a few Python libraries so you have the right commands to call on.\n",
    "- list the libraries and what they do here -"
   ]
  },
  {
   "cell_type": "code",
   "execution_count": 1,
   "metadata": {},
   "outputs": [],
   "source": [
    "import requests\n",
    "import pandas\n",
    "# check out what else needs to be in there"
   ]
  },
  {
   "cell_type": "code",
   "execution_count": null,
   "metadata": {},
   "outputs": [],
   "source": []
  }
 ],
 "metadata": {
  "kernelspec": {
   "display_name": "Python 3",
   "language": "python",
   "name": "python3"
  },
  "language_info": {
   "codemirror_mode": {
    "name": "ipython",
    "version": 3
   },
   "file_extension": ".py",
   "mimetype": "text/x-python",
   "name": "python",
   "nbconvert_exporter": "python",
   "pygments_lexer": "ipython3",
   "version": "3.7.1"
  }
 },
 "nbformat": 4,
 "nbformat_minor": 2
}
